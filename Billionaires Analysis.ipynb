{
 "cells": [
  {
   "cell_type": "markdown",
   "id": "049b9040",
   "metadata": {},
   "source": [
    "#### Importing the libraries"
   ]
  },
  {
   "cell_type": "code",
   "execution_count": 10,
   "id": "756fb6a5",
   "metadata": {},
   "outputs": [
    {
     "name": "stdout",
     "output_type": "stream",
     "text": [
      "Collecting getContinent\n",
      "  Downloading getContinent-1.1.1-py3-none-any.whl (4.7 kB)\n",
      "Requirement already satisfied: pandas in c:\\python\\lib\\site-packages (from getContinent) (1.4.2)\n",
      "Requirement already satisfied: numpy>=1.18.5 in c:\\python\\lib\\site-packages (from pandas->getContinent) (1.21.5)\n",
      "Requirement already satisfied: python-dateutil>=2.8.1 in c:\\python\\lib\\site-packages (from pandas->getContinent) (2.8.2)\n",
      "Requirement already satisfied: pytz>=2020.1 in c:\\python\\lib\\site-packages (from pandas->getContinent) (2021.3)\n",
      "Requirement already satisfied: six>=1.5 in c:\\python\\lib\\site-packages (from python-dateutil>=2.8.1->pandas->getContinent) (1.16.0)\n",
      "Installing collected packages: getContinent\n",
      "Successfully installed getContinent-1.1.1\n"
     ]
    },
    {
     "name": "stderr",
     "output_type": "stream",
     "text": [
      "\n",
      "[notice] A new release of pip is available: 23.0 -> 23.0.1\n",
      "[notice] To update, run: python.exe -m pip install --upgrade pip\n"
     ]
    }
   ],
   "source": [
    "!pip install getContinent"
   ]
  },
  {
   "cell_type": "code",
   "execution_count": 12,
   "id": "987b63c1",
   "metadata": {},
   "outputs": [],
   "source": [
    "import pandas as pd\n",
    "import numpy as np\n",
    "import seaborn as sns\n",
    "import matplotlib.pyplot as plt\n",
    "from getconti import getConti\n"
   ]
  },
  {
   "cell_type": "markdown",
   "id": "4cc64f34",
   "metadata": {},
   "source": [
    "#### Loading the data"
   ]
  },
  {
   "cell_type": "code",
   "execution_count": 2,
   "id": "1fe66ef0",
   "metadata": {},
   "outputs": [],
   "source": [
    "df = pd.read_csv (r\"C:\\Users\\Fleet Data Analyst\\Downloads\\Billionaire Data\\Billionaire.csv\")"
   ]
  },
  {
   "cell_type": "markdown",
   "id": "b3295e5d",
   "metadata": {},
   "source": [
    "#### Data inspection"
   ]
  },
  {
   "cell_type": "code",
   "execution_count": 3,
   "id": "6024ce46",
   "metadata": {},
   "outputs": [
    {
     "data": {
      "text/html": [
       "<div>\n",
       "<style scoped>\n",
       "    .dataframe tbody tr th:only-of-type {\n",
       "        vertical-align: middle;\n",
       "    }\n",
       "\n",
       "    .dataframe tbody tr th {\n",
       "        vertical-align: top;\n",
       "    }\n",
       "\n",
       "    .dataframe thead th {\n",
       "        text-align: right;\n",
       "    }\n",
       "</style>\n",
       "<table border=\"1\" class=\"dataframe\">\n",
       "  <thead>\n",
       "    <tr style=\"text-align: right;\">\n",
       "      <th></th>\n",
       "      <th>Name</th>\n",
       "      <th>NetWorth</th>\n",
       "      <th>Country</th>\n",
       "      <th>Source</th>\n",
       "      <th>Rank</th>\n",
       "      <th>Age</th>\n",
       "      <th>Industry</th>\n",
       "    </tr>\n",
       "  </thead>\n",
       "  <tbody>\n",
       "    <tr>\n",
       "      <th>2655</th>\n",
       "      <td>Wu Wei</td>\n",
       "      <td>$1.1 B</td>\n",
       "      <td>China</td>\n",
       "      <td>education</td>\n",
       "      <td>2524</td>\n",
       "      <td>53.0</td>\n",
       "      <td>Service</td>\n",
       "    </tr>\n",
       "    <tr>\n",
       "      <th>2656</th>\n",
       "      <td>Xiao Guoqing</td>\n",
       "      <td>$1.1 B</td>\n",
       "      <td>China</td>\n",
       "      <td>education</td>\n",
       "      <td>2524</td>\n",
       "      <td>52.0</td>\n",
       "      <td>Service</td>\n",
       "    </tr>\n",
       "    <tr>\n",
       "      <th>2657</th>\n",
       "      <td>George Yancopoulos</td>\n",
       "      <td>$1.1 B</td>\n",
       "      <td>United States</td>\n",
       "      <td>pharmaceuticals</td>\n",
       "      <td>2524</td>\n",
       "      <td>61.0</td>\n",
       "      <td>Healthcare</td>\n",
       "    </tr>\n",
       "    <tr>\n",
       "      <th>2658</th>\n",
       "      <td>Yao Lisheng</td>\n",
       "      <td>$1.1 B</td>\n",
       "      <td>China</td>\n",
       "      <td>electronics</td>\n",
       "      <td>2524</td>\n",
       "      <td>51.0</td>\n",
       "      <td>Technology</td>\n",
       "    </tr>\n",
       "    <tr>\n",
       "      <th>2659</th>\n",
       "      <td>Yu Faxiang</td>\n",
       "      <td>$1.1 B</td>\n",
       "      <td>China</td>\n",
       "      <td>tourism, cultural industry</td>\n",
       "      <td>2524</td>\n",
       "      <td>49.0</td>\n",
       "      <td>Media &amp; Entertainment</td>\n",
       "    </tr>\n",
       "    <tr>\n",
       "      <th>...</th>\n",
       "      <td>...</td>\n",
       "      <td>...</td>\n",
       "      <td>...</td>\n",
       "      <td>...</td>\n",
       "      <td>...</td>\n",
       "      <td>...</td>\n",
       "      <td>...</td>\n",
       "    </tr>\n",
       "    <tr>\n",
       "      <th>2750</th>\n",
       "      <td>Daniel Yong Zhang</td>\n",
       "      <td>$1 B</td>\n",
       "      <td>China</td>\n",
       "      <td>e-commerce</td>\n",
       "      <td>2674</td>\n",
       "      <td>49.0</td>\n",
       "      <td>Technology</td>\n",
       "    </tr>\n",
       "    <tr>\n",
       "      <th>2751</th>\n",
       "      <td>Zhang Yuqiang</td>\n",
       "      <td>$1 B</td>\n",
       "      <td>China</td>\n",
       "      <td>Fiberglass</td>\n",
       "      <td>2674</td>\n",
       "      <td>65.0</td>\n",
       "      <td>Manufacturing</td>\n",
       "    </tr>\n",
       "    <tr>\n",
       "      <th>2752</th>\n",
       "      <td>Zhao Meiguang</td>\n",
       "      <td>$1 B</td>\n",
       "      <td>China</td>\n",
       "      <td>gold mining</td>\n",
       "      <td>2674</td>\n",
       "      <td>58.0</td>\n",
       "      <td>Metals &amp; Mining</td>\n",
       "    </tr>\n",
       "    <tr>\n",
       "      <th>2753</th>\n",
       "      <td>Zhong Naixiong</td>\n",
       "      <td>$1 B</td>\n",
       "      <td>China</td>\n",
       "      <td>conglomerate</td>\n",
       "      <td>2674</td>\n",
       "      <td>58.0</td>\n",
       "      <td>Diversified</td>\n",
       "    </tr>\n",
       "    <tr>\n",
       "      <th>2754</th>\n",
       "      <td>Zhou Wei family</td>\n",
       "      <td>$1 B</td>\n",
       "      <td>China</td>\n",
       "      <td>Software</td>\n",
       "      <td>2674</td>\n",
       "      <td>54.0</td>\n",
       "      <td>Technology</td>\n",
       "    </tr>\n",
       "  </tbody>\n",
       "</table>\n",
       "<p>100 rows × 7 columns</p>\n",
       "</div>"
      ],
      "text/plain": [
       "                    Name NetWorth        Country                      Source  \\\n",
       "2655              Wu Wei   $1.1 B          China                   education   \n",
       "2656        Xiao Guoqing   $1.1 B          China                   education   \n",
       "2657  George Yancopoulos   $1.1 B  United States             pharmaceuticals   \n",
       "2658         Yao Lisheng   $1.1 B          China                 electronics   \n",
       "2659          Yu Faxiang   $1.1 B          China  tourism, cultural industry   \n",
       "...                  ...      ...            ...                         ...   \n",
       "2750   Daniel Yong Zhang     $1 B          China                  e-commerce   \n",
       "2751       Zhang Yuqiang     $1 B          China                  Fiberglass   \n",
       "2752       Zhao Meiguang     $1 B          China                 gold mining   \n",
       "2753      Zhong Naixiong     $1 B          China                conglomerate   \n",
       "2754     Zhou Wei family     $1 B          China                    Software   \n",
       "\n",
       "      Rank   Age               Industry  \n",
       "2655  2524  53.0                Service  \n",
       "2656  2524  52.0                Service  \n",
       "2657  2524  61.0             Healthcare  \n",
       "2658  2524  51.0             Technology  \n",
       "2659  2524  49.0  Media & Entertainment  \n",
       "...    ...   ...                    ...  \n",
       "2750  2674  49.0             Technology  \n",
       "2751  2674  65.0          Manufacturing  \n",
       "2752  2674  58.0        Metals & Mining  \n",
       "2753  2674  58.0            Diversified  \n",
       "2754  2674  54.0             Technology  \n",
       "\n",
       "[100 rows x 7 columns]"
      ]
     },
     "execution_count": 3,
     "metadata": {},
     "output_type": "execute_result"
    }
   ],
   "source": [
    "df.tail(100)"
   ]
  },
  {
   "cell_type": "code",
   "execution_count": 4,
   "id": "b52fe33c",
   "metadata": {},
   "outputs": [
    {
     "data": {
      "text/plain": [
       "(2755, 7)"
      ]
     },
     "execution_count": 4,
     "metadata": {},
     "output_type": "execute_result"
    }
   ],
   "source": [
    "df.shape"
   ]
  },
  {
   "cell_type": "markdown",
   "id": "017f4516",
   "metadata": {},
   "source": [
    "#### Research Questions"
   ]
  },
  {
   "cell_type": "code",
   "execution_count": 5,
   "id": "80fa6aa4",
   "metadata": {},
   "outputs": [
    {
     "ename": "SyntaxError",
     "evalue": "invalid syntax (4024540878.py, line 2)",
     "output_type": "error",
     "traceback": [
      "\u001b[1;36m  Input \u001b[1;32mIn [5]\u001b[1;36m\u001b[0m\n\u001b[1;33m    2. Which countries have the highest Networth\u001b[0m\n\u001b[1;37m       ^\u001b[0m\n\u001b[1;31mSyntaxError\u001b[0m\u001b[1;31m:\u001b[0m invalid syntax\n"
     ]
    }
   ],
   "source": [
    "1. Which top 10 industries have the highest Networth?\n",
    "2. Which countries have the highest Networth\n",
    "3. Who are the top billionaires in Asia?\n",
    "4. Who are top billionaires in Africa?\n",
    "5. How many billionaires do we have in America?\n",
    "6. Which countries have the least number of billionaires?"
   ]
  },
  {
   "cell_type": "markdown",
   "id": "fab78ed7",
   "metadata": {},
   "source": [
    "#### Data Cleaning/ Preprocessing"
   ]
  },
  {
   "cell_type": "code",
   "execution_count": 6,
   "id": "44c8efc1",
   "metadata": {
    "scrolled": true
   },
   "outputs": [
    {
     "name": "stdout",
     "output_type": "stream",
     "text": [
      "<class 'pandas.core.frame.DataFrame'>\n",
      "RangeIndex: 2755 entries, 0 to 2754\n",
      "Data columns (total 7 columns):\n",
      " #   Column    Non-Null Count  Dtype  \n",
      "---  ------    --------------  -----  \n",
      " 0   Name      2755 non-null   object \n",
      " 1   NetWorth  2755 non-null   object \n",
      " 2   Country   2755 non-null   object \n",
      " 3   Source    2755 non-null   object \n",
      " 4   Rank      2755 non-null   int64  \n",
      " 5   Age       2676 non-null   float64\n",
      " 6   Industry  2755 non-null   object \n",
      "dtypes: float64(1), int64(1), object(5)\n",
      "memory usage: 150.8+ KB\n"
     ]
    }
   ],
   "source": [
    "df.info()\n",
    "# Checking the data types and columns"
   ]
  },
  {
   "cell_type": "code",
   "execution_count": 7,
   "id": "0cc6638b",
   "metadata": {},
   "outputs": [
    {
     "data": {
      "text/plain": [
       "0       $177 B\n",
       "1       $151 B\n",
       "2       $150 B\n",
       "3       $124 B\n",
       "4        $97 B\n",
       "         ...  \n",
       "2750      $1 B\n",
       "2751      $1 B\n",
       "2752      $1 B\n",
       "2753      $1 B\n",
       "2754      $1 B\n",
       "Name: NetWorth, Length: 2755, dtype: object"
      ]
     },
     "execution_count": 7,
     "metadata": {},
     "output_type": "execute_result"
    }
   ],
   "source": [
    "# cleaning the Networth column\n",
    "df['NetWorth']"
   ]
  },
  {
   "cell_type": "code",
   "execution_count": 8,
   "id": "78e2581d",
   "metadata": {
    "scrolled": true
   },
   "outputs": [
    {
     "data": {
      "text/plain": [
       "0       177.0\n",
       "1       151.0\n",
       "2       150.0\n",
       "3       124.0\n",
       "4        97.0\n",
       "        ...  \n",
       "2750      1.0\n",
       "2751      1.0\n",
       "2752      1.0\n",
       "2753      1.0\n",
       "2754      1.0\n",
       "Name: NetWorth, Length: 2755, dtype: float64"
      ]
     },
     "execution_count": 8,
     "metadata": {},
     "output_type": "execute_result"
    }
   ],
   "source": [
    "# replacing B and $ with  blank\n",
    "df['NetWorth']= df.NetWorth.apply(lambda x: str(x).replace('B', ''))\n",
    "df['NetWorth'] = df.NetWorth.apply(lambda x: str(x).replace('$', ''))\n",
    "df['NetWorth']\n",
    "\n",
    "#changing the datatype\n",
    "df['NetWorth']= df['NetWorth'].astype(float)\n",
    "\n",
    "# or \n",
    "\n",
    "# df['NetWorth'] = df.NetWorth.apply(lambda x:float(x))\n",
    "\n",
    "df['NetWorth']"
   ]
  },
  {
   "cell_type": "code",
   "execution_count": null,
   "id": "9d400ef1",
   "metadata": {
    "scrolled": true
   },
   "outputs": [],
   "source": [
    "#confirm the datatypes\n",
    "df.dtypes"
   ]
  },
  {
   "cell_type": "code",
   "execution_count": null,
   "id": "cb2faf62",
   "metadata": {},
   "outputs": [],
   "source": [
    "#Checking the missing data\n",
    "data_missing = df[df.isna().Age]\n",
    "data_missing "
   ]
  },
  {
   "cell_type": "code",
   "execution_count": null,
   "id": "70025168",
   "metadata": {},
   "outputs": [],
   "source": [
    "# drop the missing view data frame\n",
    "data_drop_Age = df.dropna()"
   ]
  },
  {
   "cell_type": "code",
   "execution_count": null,
   "id": "26e811b0",
   "metadata": {},
   "outputs": [],
   "source": [
    "#check the current shape\n",
    "data_drop_Age.shape"
   ]
  },
  {
   "cell_type": "code",
   "execution_count": null,
   "id": "685d177a",
   "metadata": {},
   "outputs": [],
   "source": [
    "# check duplicates\n",
    "df.duplicated().sum()"
   ]
  },
  {
   "cell_type": "code",
   "execution_count": null,
   "id": "f0b24288",
   "metadata": {},
   "outputs": [],
   "source": [
    "# data quick statistics\n",
    "df.describe()"
   ]
  },
  {
   "cell_type": "code",
   "execution_count": null,
   "id": "a445e1ce",
   "metadata": {
    "scrolled": true
   },
   "outputs": [],
   "source": [
    "# check the min value (Age)\n",
    "youngest_billionaire = df[df.Age == 18]\n",
    "youngest_billionaire "
   ]
  },
  {
   "cell_type": "markdown",
   "id": "9699da8f",
   "metadata": {},
   "source": [
    "#### Data Analysis"
   ]
  },
  {
   "cell_type": "code",
   "execution_count": null,
   "id": "08e8c108",
   "metadata": {},
   "outputs": [],
   "source": [
    "#1 .Which top 10 industries have the highest Networth?"
   ]
  },
  {
   "cell_type": "code",
   "execution_count": null,
   "id": "54536015",
   "metadata": {},
   "outputs": [],
   "source": [
    "# writting a function to avoid repetion\n",
    "def billionaires(y = '', x= ''):\n",
    "    Top_hghst_Netwth = df.groupby(y)[x].sum().reset_index()\n",
    "    Top_hghst_Netwth =  Top_hghst_Netwth.sort_values(by = x,ascending= False).head(10)\n",
    "    return  Top_hghst_Netwth\n",
    "\n",
    "\n"
   ]
  },
  {
   "cell_type": "code",
   "execution_count": null,
   "id": "3e4289ff",
   "metadata": {},
   "outputs": [],
   "source": [
    "# Top_10_ind_hghst_Netwth = df.groupby('Industry')['NetWorth'].sum().reset_index()\n",
    "# Top_10_ind_hghst_Netwth = Top_10_ind_hghst_Netwth.sort_values(by = 'NetWorth',ascending= False).head(10) \n",
    "# Top_10_ind_hghst_Netwth\n",
    "y= billionaires (y = 'Industry', x= 'NetWorth')"
   ]
  },
  {
   "cell_type": "code",
   "execution_count": null,
   "id": "2f01d6a8",
   "metadata": {},
   "outputs": [],
   "source": [
    "# plt.figure(figsize=(15, 16))\n",
    "plt.figure(figsize=(15, 10))\n",
    "plt.title('Top 10 Industries based on Net Worth')\n",
    "sns.barplot(data=y, y='Industry', x='NetWorth', palette='Blues_d')\n",
    "plt.xlabel('NetWorth')\n",
    "plt.xticks(rotation=45)\n",
    "plt.ylabel('Net Worth (in billions)')\n",
    "plt.show()"
   ]
  },
  {
   "cell_type": "code",
   "execution_count": null,
   "id": "ed636d63",
   "metadata": {},
   "outputs": [],
   "source": [
    "#2. Which countries have the highest Networth"
   ]
  },
  {
   "cell_type": "code",
   "execution_count": null,
   "id": "426da5f7",
   "metadata": {},
   "outputs": [],
   "source": [
    "#calling billionaires function and passing two arguments\n",
    "x = billionaires(y ='Country', x= 'NetWorth')\n",
    "x"
   ]
  },
  {
   "cell_type": "code",
   "execution_count": null,
   "id": "ba93b352",
   "metadata": {
    "scrolled": false
   },
   "outputs": [],
   "source": [
    "#Plotting the output\n",
    "plt.figure(figsize=(15, 16))\n",
    "plt.title('Top 10 Countries with the highest NetWorth')\n",
    "sns.barplot(data=x, y='Country', x='NetWorth', palette='magma')\n",
    "plt.xlabel('Country')\n",
    "plt.xticks(rotation=45)\n",
    "plt.ylabel('NetWorth (in billions)')\n",
    "plt.show()"
   ]
  },
  {
   "cell_type": "code",
   "execution_count": null,
   "id": "1689b755",
   "metadata": {},
   "outputs": [],
   "source": [
    "#3. Who are the top billionaires in Asia?"
   ]
  },
  {
   "cell_type": "code",
   "execution_count": null,
   "id": "0c12a5af",
   "metadata": {},
   "outputs": [],
   "source": [
    "# # Asia is a continent not country\n",
    "# Top_bill_Asia = billionaires(y='Country', x='NetWorth')\n",
    "# Top_bill_Asia = Top_bill_Asia[Top_bill_Asia['Country'] == 'Hong Kong']\n",
    "# Top_bill_Asia"
   ]
  },
  {
   "cell_type": "code",
   "execution_count": 22,
   "id": "5a39adc8",
   "metadata": {},
   "outputs": [
    {
     "data": {
      "text/plain": [
       "United States           724\n",
       "China                   626\n",
       "India                   140\n",
       "Germany                 136\n",
       "Russia                  118\n",
       "Hong Kong                71\n",
       "Brazil                   65\n",
       "Canada                   64\n",
       "United Kingdom           56\n",
       "Italy                    51\n",
       "Japan                    49\n",
       "Taiwan                   47\n",
       "Australia                44\n",
       "South Korea              43\n",
       "France                   42\n",
       "Sweden                   41\n",
       "Switzerland              40\n",
       "Thailand                 31\n",
       "Spain                    30\n",
       "Turkey                   27\n",
       "Singapore                27\n",
       "Israel                   25\n",
       "Indonesia                21\n",
       "Philippines              17\n",
       "Malaysia                 17\n",
       "Mexico                   13\n",
       "Austria                  12\n",
       "Norway                   12\n",
       "Netherlands              12\n",
       "Denmark                  10\n",
       "Chile                     9\n",
       "Ireland                   9\n",
       "Czechia                   9\n",
       "Poland                    8\n",
       "Ukraine                   7\n",
       "Finland                   7\n",
       "Peru                      6\n",
       "Egypt                     6\n",
       "Lebanon                   6\n",
       "Vietnam                   6\n",
       "Kazakhstan                5\n",
       "Argentina                 5\n",
       "South Africa              5\n",
       "Cyprus                    5\n",
       "Colombia                  5\n",
       "United Arab Emirates      4\n",
       "Greece                    4\n",
       "Belgium                   3\n",
       "Nigeria                   3\n",
       "Monaco                    3\n",
       "Georgia                   2\n",
       "Portugal                  2\n",
       "Morocco                   2\n",
       "Hungary                   2\n",
       "Romania                   2\n",
       "New Zealand               2\n",
       "Qatar                     2\n",
       "Slovakia                  2\n",
       "Iceland                   2\n",
       "Zimbabwe                  1\n",
       "St. Kitts and Nevis       1\n",
       "Tanzania                  1\n",
       "Macao                     1\n",
       "Oman                      1\n",
       "Guernsey                  1\n",
       "Venezuela                 1\n",
       "Eswatini (Swaziland)      1\n",
       "Algeria                   1\n",
       "Liechtenstein             1\n",
       "Nepal                     1\n",
       "Name: Country, dtype: int64"
      ]
     },
     "execution_count": 22,
     "metadata": {},
     "output_type": "execute_result"
    }
   ],
   "source": [
    "# check the countries in the database\n",
    "df= df['Country'].value_counts()\n",
    "pd.set_option('display.max_rows',70)\n",
    "df"
   ]
  },
  {
   "cell_type": "code",
   "execution_count": null,
   "id": "3e2a6b72",
   "metadata": {
    "scrolled": true
   },
   "outputs": [],
   "source": [
    "# Check the columns in the dataframe\n",
    "df.columns"
   ]
  },
  {
   "cell_type": "code",
   "execution_count": 13,
   "id": "8294df45",
   "metadata": {},
   "outputs": [
    {
     "name": "stdout",
     "output_type": "stream",
     "text": [
      "C:\\Python\\lib\\site-packages\\getconti\n"
     ]
    }
   ],
   "source": [
    "a = getConti()"
   ]
  },
  {
   "cell_type": "code",
   "execution_count": 15,
   "id": "b2e3889d",
   "metadata": {},
   "outputs": [
    {
     "data": {
      "text/html": [
       "<div>\n",
       "<style scoped>\n",
       "    .dataframe tbody tr th:only-of-type {\n",
       "        vertical-align: middle;\n",
       "    }\n",
       "\n",
       "    .dataframe tbody tr th {\n",
       "        vertical-align: top;\n",
       "    }\n",
       "\n",
       "    .dataframe thead th {\n",
       "        text-align: right;\n",
       "    }\n",
       "</style>\n",
       "<table border=\"1\" class=\"dataframe\">\n",
       "  <thead>\n",
       "    <tr style=\"text-align: right;\">\n",
       "      <th></th>\n",
       "      <th>Name</th>\n",
       "      <th>NetWorth</th>\n",
       "      <th>Country</th>\n",
       "      <th>Source</th>\n",
       "      <th>Rank</th>\n",
       "      <th>Age</th>\n",
       "      <th>Industry</th>\n",
       "      <th>Continent</th>\n",
       "    </tr>\n",
       "  </thead>\n",
       "  <tbody>\n",
       "    <tr>\n",
       "      <th>0</th>\n",
       "      <td>Jeff Bezos</td>\n",
       "      <td>177.0</td>\n",
       "      <td>United States</td>\n",
       "      <td>Amazon</td>\n",
       "      <td>1</td>\n",
       "      <td>57.0</td>\n",
       "      <td>Technology</td>\n",
       "      <td>North America</td>\n",
       "    </tr>\n",
       "    <tr>\n",
       "      <th>1</th>\n",
       "      <td>Elon Musk</td>\n",
       "      <td>151.0</td>\n",
       "      <td>United States</td>\n",
       "      <td>Tesla, SpaceX</td>\n",
       "      <td>2</td>\n",
       "      <td>49.0</td>\n",
       "      <td>Automotive</td>\n",
       "      <td>North America</td>\n",
       "    </tr>\n",
       "    <tr>\n",
       "      <th>2</th>\n",
       "      <td>Bernard Arnault &amp; family</td>\n",
       "      <td>150.0</td>\n",
       "      <td>France</td>\n",
       "      <td>LVMH</td>\n",
       "      <td>3</td>\n",
       "      <td>72.0</td>\n",
       "      <td>Fashion &amp; Retail</td>\n",
       "      <td>Europe</td>\n",
       "    </tr>\n",
       "    <tr>\n",
       "      <th>3</th>\n",
       "      <td>Bill Gates</td>\n",
       "      <td>124.0</td>\n",
       "      <td>United States</td>\n",
       "      <td>Microsoft</td>\n",
       "      <td>4</td>\n",
       "      <td>65.0</td>\n",
       "      <td>Technology</td>\n",
       "      <td>North America</td>\n",
       "    </tr>\n",
       "    <tr>\n",
       "      <th>4</th>\n",
       "      <td>Mark Zuckerberg</td>\n",
       "      <td>97.0</td>\n",
       "      <td>United States</td>\n",
       "      <td>Facebook</td>\n",
       "      <td>5</td>\n",
       "      <td>36.0</td>\n",
       "      <td>Technology</td>\n",
       "      <td>North America</td>\n",
       "    </tr>\n",
       "    <tr>\n",
       "      <th>...</th>\n",
       "      <td>...</td>\n",
       "      <td>...</td>\n",
       "      <td>...</td>\n",
       "      <td>...</td>\n",
       "      <td>...</td>\n",
       "      <td>...</td>\n",
       "      <td>...</td>\n",
       "      <td>...</td>\n",
       "    </tr>\n",
       "    <tr>\n",
       "      <th>2750</th>\n",
       "      <td>Daniel Yong Zhang</td>\n",
       "      <td>1.0</td>\n",
       "      <td>China</td>\n",
       "      <td>e-commerce</td>\n",
       "      <td>2674</td>\n",
       "      <td>49.0</td>\n",
       "      <td>Technology</td>\n",
       "      <td>Asia</td>\n",
       "    </tr>\n",
       "    <tr>\n",
       "      <th>2751</th>\n",
       "      <td>Zhang Yuqiang</td>\n",
       "      <td>1.0</td>\n",
       "      <td>China</td>\n",
       "      <td>Fiberglass</td>\n",
       "      <td>2674</td>\n",
       "      <td>65.0</td>\n",
       "      <td>Manufacturing</td>\n",
       "      <td>Asia</td>\n",
       "    </tr>\n",
       "    <tr>\n",
       "      <th>2752</th>\n",
       "      <td>Zhao Meiguang</td>\n",
       "      <td>1.0</td>\n",
       "      <td>China</td>\n",
       "      <td>gold mining</td>\n",
       "      <td>2674</td>\n",
       "      <td>58.0</td>\n",
       "      <td>Metals &amp; Mining</td>\n",
       "      <td>Asia</td>\n",
       "    </tr>\n",
       "    <tr>\n",
       "      <th>2753</th>\n",
       "      <td>Zhong Naixiong</td>\n",
       "      <td>1.0</td>\n",
       "      <td>China</td>\n",
       "      <td>conglomerate</td>\n",
       "      <td>2674</td>\n",
       "      <td>58.0</td>\n",
       "      <td>Diversified</td>\n",
       "      <td>Asia</td>\n",
       "    </tr>\n",
       "    <tr>\n",
       "      <th>2754</th>\n",
       "      <td>Zhou Wei family</td>\n",
       "      <td>1.0</td>\n",
       "      <td>China</td>\n",
       "      <td>Software</td>\n",
       "      <td>2674</td>\n",
       "      <td>54.0</td>\n",
       "      <td>Technology</td>\n",
       "      <td>Asia</td>\n",
       "    </tr>\n",
       "  </tbody>\n",
       "</table>\n",
       "<p>2755 rows × 8 columns</p>\n",
       "</div>"
      ],
      "text/plain": [
       "                          Name  NetWorth        Country         Source  Rank  \\\n",
       "0                   Jeff Bezos     177.0  United States         Amazon     1   \n",
       "1                    Elon Musk     151.0  United States  Tesla, SpaceX     2   \n",
       "2     Bernard Arnault & family     150.0         France           LVMH     3   \n",
       "3                   Bill Gates     124.0  United States      Microsoft     4   \n",
       "4              Mark Zuckerberg      97.0  United States       Facebook     5   \n",
       "...                        ...       ...            ...            ...   ...   \n",
       "2750         Daniel Yong Zhang       1.0          China     e-commerce  2674   \n",
       "2751             Zhang Yuqiang       1.0          China     Fiberglass  2674   \n",
       "2752             Zhao Meiguang       1.0          China    gold mining  2674   \n",
       "2753            Zhong Naixiong       1.0          China   conglomerate  2674   \n",
       "2754           Zhou Wei family       1.0          China       Software  2674   \n",
       "\n",
       "       Age          Industry      Continent  \n",
       "0     57.0        Technology  North America  \n",
       "1     49.0        Automotive  North America  \n",
       "2     72.0  Fashion & Retail         Europe  \n",
       "3     65.0        Technology  North America  \n",
       "4     36.0        Technology  North America  \n",
       "...    ...               ...            ...  \n",
       "2750  49.0        Technology           Asia  \n",
       "2751  65.0     Manufacturing           Asia  \n",
       "2752  58.0   Metals & Mining           Asia  \n",
       "2753  58.0       Diversified           Asia  \n",
       "2754  54.0        Technology           Asia  \n",
       "\n",
       "[2755 rows x 8 columns]"
      ]
     },
     "execution_count": 15,
     "metadata": {},
     "output_type": "execute_result"
    }
   ],
   "source": [
    "df['Continent']= df.Country.apply(lambda x: a.getContinents(x))\n",
    "df"
   ]
  },
  {
   "cell_type": "code",
   "execution_count": 18,
   "id": "96e28b6b",
   "metadata": {},
   "outputs": [
    {
     "data": {
      "text/html": [
       "<div>\n",
       "<style scoped>\n",
       "    .dataframe tbody tr th:only-of-type {\n",
       "        vertical-align: middle;\n",
       "    }\n",
       "\n",
       "    .dataframe tbody tr th {\n",
       "        vertical-align: top;\n",
       "    }\n",
       "\n",
       "    .dataframe thead th {\n",
       "        text-align: right;\n",
       "    }\n",
       "</style>\n",
       "<table border=\"1\" class=\"dataframe\">\n",
       "  <thead>\n",
       "    <tr style=\"text-align: right;\">\n",
       "      <th></th>\n",
       "      <th>Name</th>\n",
       "      <th>NetWorth</th>\n",
       "      <th>Country</th>\n",
       "      <th>Source</th>\n",
       "      <th>Rank</th>\n",
       "      <th>Age</th>\n",
       "      <th>Industry</th>\n",
       "      <th>Continent</th>\n",
       "    </tr>\n",
       "  </thead>\n",
       "  <tbody>\n",
       "    <tr>\n",
       "      <th>9</th>\n",
       "      <td>Mukesh Ambani</td>\n",
       "      <td>84.5</td>\n",
       "      <td>India</td>\n",
       "      <td>diversified</td>\n",
       "      <td>10</td>\n",
       "      <td>63.0</td>\n",
       "      <td>Diversified</td>\n",
       "      <td>Asia</td>\n",
       "    </tr>\n",
       "    <tr>\n",
       "      <th>12</th>\n",
       "      <td>Zhong Shanshan</td>\n",
       "      <td>68.9</td>\n",
       "      <td>China</td>\n",
       "      <td>beverages, pharmaceuticals</td>\n",
       "      <td>13</td>\n",
       "      <td>66.0</td>\n",
       "      <td>Food &amp; Beverage</td>\n",
       "      <td>Asia</td>\n",
       "    </tr>\n",
       "    <tr>\n",
       "      <th>14</th>\n",
       "      <td>Ma Huateng</td>\n",
       "      <td>65.8</td>\n",
       "      <td>China</td>\n",
       "      <td>internet media</td>\n",
       "      <td>15</td>\n",
       "      <td>49.0</td>\n",
       "      <td>Technology</td>\n",
       "      <td>Asia</td>\n",
       "    </tr>\n",
       "    <tr>\n",
       "      <th>20</th>\n",
       "      <td>Colin Zheng Huang</td>\n",
       "      <td>55.3</td>\n",
       "      <td>China</td>\n",
       "      <td>e-commerce</td>\n",
       "      <td>21</td>\n",
       "      <td>41.0</td>\n",
       "      <td>Technology</td>\n",
       "      <td>Asia</td>\n",
       "    </tr>\n",
       "    <tr>\n",
       "      <th>23</th>\n",
       "      <td>Gautam Adani &amp; family</td>\n",
       "      <td>50.5</td>\n",
       "      <td>India</td>\n",
       "      <td>infrastructure, commodities</td>\n",
       "      <td>24</td>\n",
       "      <td>58.0</td>\n",
       "      <td>Diversified</td>\n",
       "      <td>Asia</td>\n",
       "    </tr>\n",
       "    <tr>\n",
       "      <th>25</th>\n",
       "      <td>Jack Ma</td>\n",
       "      <td>48.4</td>\n",
       "      <td>China</td>\n",
       "      <td>e-commerce</td>\n",
       "      <td>26</td>\n",
       "      <td>56.0</td>\n",
       "      <td>Technology</td>\n",
       "      <td>Asia</td>\n",
       "    </tr>\n",
       "    <tr>\n",
       "      <th>28</th>\n",
       "      <td>Masayoshi Son</td>\n",
       "      <td>45.4</td>\n",
       "      <td>Japan</td>\n",
       "      <td>internet, telecom</td>\n",
       "      <td>29</td>\n",
       "      <td>63.0</td>\n",
       "      <td>Telecom</td>\n",
       "      <td>Asia</td>\n",
       "    </tr>\n",
       "    <tr>\n",
       "      <th>30</th>\n",
       "      <td>Tadashi Yanai &amp; family</td>\n",
       "      <td>44.1</td>\n",
       "      <td>Japan</td>\n",
       "      <td>fashion retail</td>\n",
       "      <td>31</td>\n",
       "      <td>72.0</td>\n",
       "      <td>Fashion &amp; Retail</td>\n",
       "      <td>Asia</td>\n",
       "    </tr>\n",
       "    <tr>\n",
       "      <th>34</th>\n",
       "      <td>Wang Wei</td>\n",
       "      <td>39.0</td>\n",
       "      <td>China</td>\n",
       "      <td>package delivery</td>\n",
       "      <td>35</td>\n",
       "      <td>50.0</td>\n",
       "      <td>Service</td>\n",
       "      <td>Asia</td>\n",
       "    </tr>\n",
       "    <tr>\n",
       "      <th>36</th>\n",
       "      <td>He Xiangjian</td>\n",
       "      <td>37.7</td>\n",
       "      <td>China</td>\n",
       "      <td>home appliances</td>\n",
       "      <td>37</td>\n",
       "      <td>78.0</td>\n",
       "      <td>Manufacturing</td>\n",
       "      <td>Asia</td>\n",
       "    </tr>\n",
       "  </tbody>\n",
       "</table>\n",
       "</div>"
      ],
      "text/plain": [
       "                      Name  NetWorth Country                       Source  \\\n",
       "9            Mukesh Ambani      84.5   India                  diversified   \n",
       "12          Zhong Shanshan      68.9   China   beverages, pharmaceuticals   \n",
       "14              Ma Huateng      65.8   China               internet media   \n",
       "20       Colin Zheng Huang      55.3   China                   e-commerce   \n",
       "23   Gautam Adani & family      50.5   India  infrastructure, commodities   \n",
       "25                 Jack Ma      48.4   China                   e-commerce   \n",
       "28           Masayoshi Son      45.4   Japan            internet, telecom   \n",
       "30  Tadashi Yanai & family      44.1   Japan               fashion retail   \n",
       "34                Wang Wei      39.0   China             package delivery   \n",
       "36            He Xiangjian      37.7   China              home appliances   \n",
       "\n",
       "    Rank   Age          Industry Continent  \n",
       "9     10  63.0       Diversified      Asia  \n",
       "12    13  66.0   Food & Beverage      Asia  \n",
       "14    15  49.0        Technology      Asia  \n",
       "20    21  41.0        Technology      Asia  \n",
       "23    24  58.0       Diversified      Asia  \n",
       "25    26  56.0        Technology      Asia  \n",
       "28    29  63.0           Telecom      Asia  \n",
       "30    31  72.0  Fashion & Retail      Asia  \n",
       "34    35  50.0           Service      Asia  \n",
       "36    37  78.0     Manufacturing      Asia  "
      ]
     },
     "execution_count": 18,
     "metadata": {},
     "output_type": "execute_result"
    }
   ],
   "source": [
    "billionaire_Asia = df[df.Continent == 'Asia'].sort_values(by='NetWorth',ascending= False).head(10)\n",
    "billionaire_Asia\n",
    "\n",
    "#select top 10\n"
   ]
  },
  {
   "cell_type": "code",
   "execution_count": 19,
   "id": "a011974c",
   "metadata": {},
   "outputs": [
    {
     "data": {
      "image/png": "[encoded data removed]",
      "text/plain": [
       "<Figure size 1080x720 with 1 Axes>"
      ]
     },
     "metadata": {
      "needs_background": "light"
     },
     "output_type": "display_data"
    }
   ],
   "source": [
    "#Plotting the graph\n",
    "# plt.figure(figsize=(15, 16))\n",
    "plt.figure(figsize=(15, 10))\n",
    "plt.title('Top 10 Billionaires in Asia')\n",
    "sns.barplot(data=billionaire_Asia, y='Name', x='NetWorth', palette='Blues_d')\n",
    "plt.xlabel('NetWorth')\n",
    "plt.xticks(rotation=45)\n",
    "plt.ylabel('Billionaire Name)')\n",
    "plt.show()"
   ]
  },
  {
   "cell_type": "code",
   "execution_count": 20,
   "id": "ab59ec83",
   "metadata": {},
   "outputs": [
    {
     "data": {
      "text/html": [
       "<div>\n",
       "<style scoped>\n",
       "    .dataframe tbody tr th:only-of-type {\n",
       "        vertical-align: middle;\n",
       "    }\n",
       "\n",
       "    .dataframe tbody tr th {\n",
       "        vertical-align: top;\n",
       "    }\n",
       "\n",
       "    .dataframe thead th {\n",
       "        text-align: right;\n",
       "    }\n",
       "</style>\n",
       "<table border=\"1\" class=\"dataframe\">\n",
       "  <thead>\n",
       "    <tr style=\"text-align: right;\">\n",
       "      <th></th>\n",
       "      <th>Name</th>\n",
       "      <th>NetWorth</th>\n",
       "      <th>Country</th>\n",
       "      <th>Source</th>\n",
       "      <th>Rank</th>\n",
       "      <th>Age</th>\n",
       "      <th>Industry</th>\n",
       "      <th>Continent</th>\n",
       "    </tr>\n",
       "  </thead>\n",
       "  <tbody>\n",
       "    <tr>\n",
       "      <th>190</th>\n",
       "      <td>Aliko Dangote</td>\n",
       "      <td>11.5</td>\n",
       "      <td>Nigeria</td>\n",
       "      <td>cement, sugar</td>\n",
       "      <td>191</td>\n",
       "      <td>63.0</td>\n",
       "      <td>Manufacturing</td>\n",
       "      <td>Africa</td>\n",
       "    </tr>\n",
       "    <tr>\n",
       "      <th>301</th>\n",
       "      <td>Nassef Sawiris</td>\n",
       "      <td>8.3</td>\n",
       "      <td>Egypt</td>\n",
       "      <td>construction, investments</td>\n",
       "      <td>297</td>\n",
       "      <td>60.0</td>\n",
       "      <td>Construction &amp; Engineering</td>\n",
       "      <td>Africa</td>\n",
       "    </tr>\n",
       "    <tr>\n",
       "      <th>309</th>\n",
       "      <td>Nicky Oppenheimer &amp; family</td>\n",
       "      <td>8.0</td>\n",
       "      <td>South Africa</td>\n",
       "      <td>diamonds</td>\n",
       "      <td>308</td>\n",
       "      <td>75.0</td>\n",
       "      <td>Metals &amp; Mining</td>\n",
       "      <td>Africa</td>\n",
       "    </tr>\n",
       "    <tr>\n",
       "      <th>364</th>\n",
       "      <td>Johann Rupert &amp; family</td>\n",
       "      <td>7.1</td>\n",
       "      <td>South Africa</td>\n",
       "      <td>luxury goods</td>\n",
       "      <td>358</td>\n",
       "      <td>70.0</td>\n",
       "      <td>Fashion &amp; Retail</td>\n",
       "      <td>Africa</td>\n",
       "    </tr>\n",
       "    <tr>\n",
       "      <th>439</th>\n",
       "      <td>Mike Adenuga</td>\n",
       "      <td>6.1</td>\n",
       "      <td>Nigeria</td>\n",
       "      <td>telecom, oil</td>\n",
       "      <td>440</td>\n",
       "      <td>67.0</td>\n",
       "      <td>Diversified</td>\n",
       "      <td>Africa</td>\n",
       "    </tr>\n",
       "    <tr>\n",
       "      <th>580</th>\n",
       "      <td>Abdulsamad Rabiu</td>\n",
       "      <td>4.9</td>\n",
       "      <td>Nigeria</td>\n",
       "      <td>cement, sugar</td>\n",
       "      <td>574</td>\n",
       "      <td>60.0</td>\n",
       "      <td>Diversified</td>\n",
       "      <td>Africa</td>\n",
       "    </tr>\n",
       "    <tr>\n",
       "      <th>597</th>\n",
       "      <td>Issad Rebrab &amp; family</td>\n",
       "      <td>4.8</td>\n",
       "      <td>Algeria</td>\n",
       "      <td>food</td>\n",
       "      <td>589</td>\n",
       "      <td>77.0</td>\n",
       "      <td>Food &amp; Beverage</td>\n",
       "      <td>Africa</td>\n",
       "    </tr>\n",
       "    <tr>\n",
       "      <th>977</th>\n",
       "      <td>Naguib Sawiris</td>\n",
       "      <td>3.2</td>\n",
       "      <td>Egypt</td>\n",
       "      <td>telecom</td>\n",
       "      <td>956</td>\n",
       "      <td>66.0</td>\n",
       "      <td>Telecom</td>\n",
       "      <td>Africa</td>\n",
       "    </tr>\n",
       "    <tr>\n",
       "      <th>1008</th>\n",
       "      <td>Koos Bekker</td>\n",
       "      <td>3.0</td>\n",
       "      <td>South Africa</td>\n",
       "      <td>media, investments</td>\n",
       "      <td>1008</td>\n",
       "      <td>68.0</td>\n",
       "      <td>Media &amp; Entertainment</td>\n",
       "      <td>Africa</td>\n",
       "    </tr>\n",
       "    <tr>\n",
       "      <th>1091</th>\n",
       "      <td>Patrice Motsepe</td>\n",
       "      <td>2.9</td>\n",
       "      <td>South Africa</td>\n",
       "      <td>mining</td>\n",
       "      <td>1064</td>\n",
       "      <td>59.0</td>\n",
       "      <td>Metals &amp; Mining</td>\n",
       "      <td>Africa</td>\n",
       "    </tr>\n",
       "  </tbody>\n",
       "</table>\n",
       "</div>"
      ],
      "text/plain": [
       "                            Name  NetWorth       Country  \\\n",
       "190                Aliko Dangote      11.5       Nigeria   \n",
       "301               Nassef Sawiris       8.3         Egypt   \n",
       "309   Nicky Oppenheimer & family       8.0  South Africa   \n",
       "364       Johann Rupert & family       7.1  South Africa   \n",
       "439                 Mike Adenuga       6.1       Nigeria   \n",
       "580             Abdulsamad Rabiu       4.9       Nigeria   \n",
       "597        Issad Rebrab & family       4.8       Algeria   \n",
       "977               Naguib Sawiris       3.2         Egypt   \n",
       "1008                 Koos Bekker       3.0  South Africa   \n",
       "1091             Patrice Motsepe       2.9  South Africa   \n",
       "\n",
       "                         Source  Rank   Age                    Industry  \\\n",
       "190               cement, sugar   191  63.0               Manufacturing   \n",
       "301   construction, investments   297  60.0  Construction & Engineering   \n",
       "309                    diamonds   308  75.0             Metals & Mining   \n",
       "364                luxury goods   358  70.0            Fashion & Retail   \n",
       "439                telecom, oil   440  67.0                 Diversified   \n",
       "580               cement, sugar   574  60.0                 Diversified   \n",
       "597                        food   589  77.0             Food & Beverage   \n",
       "977                     telecom   956  66.0                     Telecom   \n",
       "1008         media, investments  1008  68.0       Media & Entertainment   \n",
       "1091                     mining  1064  59.0             Metals & Mining   \n",
       "\n",
       "     Continent  \n",
       "190     Africa  \n",
       "301     Africa  \n",
       "309     Africa  \n",
       "364     Africa  \n",
       "439     Africa  \n",
       "580     Africa  \n",
       "597     Africa  \n",
       "977     Africa  \n",
       "1008    Africa  \n",
       "1091    Africa  "
      ]
     },
     "execution_count": 20,
     "metadata": {},
     "output_type": "execute_result"
    }
   ],
   "source": [
    "#Who are top billionaires in Africa?\n",
    "billionaire_Africa = df[df.Continent == 'Africa'].sort_values(by='NetWorth',ascending= False).head(10)\n",
    "billionaire_Africa \n"
   ]
  },
  {
   "cell_type": "code",
   "execution_count": 21,
   "id": "8d167b46",
   "metadata": {},
   "outputs": [
    {
     "data": {
      "image/png": "[encoded data removed]",
      "text/plain": [
       "<Figure size 1080x1152 with 1 Axes>"
      ]
     },
     "metadata": {
      "needs_background": "light"
     },
     "output_type": "display_data"
    }
   ],
   "source": [
    "# plotting\n",
    "#Plotting the output\n",
    "plt.figure(figsize=(15, 16))\n",
    "plt.title('Top 10 Billionaires in Africa')\n",
    "sns.barplot(data=billionaire_Africa, y='Name', x='NetWorth', palette='magma')\n",
    "plt.xlabel('Country')\n",
    "plt.xticks(rotation=45)\n",
    "plt.ylabel('NetWorth (in billions)')\n",
    "plt.show()"
   ]
  },
  {
   "cell_type": "code",
   "execution_count": 25,
   "id": "bdb19b99",
   "metadata": {
    "scrolled": true
   },
   "outputs": [
    {
     "ename": "KeyError",
     "evalue": "False",
     "output_type": "error",
     "traceback": [
      "\u001b[1;31m---------------------------------------------------------------------------\u001b[0m",
      "\u001b[1;31mKeyError\u001b[0m                                  Traceback (most recent call last)",
      "File \u001b[1;32mC:\\Python\\lib\\site-packages\\pandas\\core\\indexes\\base.py:3621\u001b[0m, in \u001b[0;36mIndex.get_loc\u001b[1;34m(self, key, method, tolerance)\u001b[0m\n\u001b[0;32m   3620\u001b[0m \u001b[38;5;28;01mtry\u001b[39;00m:\n\u001b[1;32m-> 3621\u001b[0m     \u001b[38;5;28;01mreturn\u001b[39;00m \u001b[38;5;28;43mself\u001b[39;49m\u001b[38;5;241;43m.\u001b[39;49m\u001b[43m_engine\u001b[49m\u001b[38;5;241;43m.\u001b[39;49m\u001b[43mget_loc\u001b[49m\u001b[43m(\u001b[49m\u001b[43mcasted_key\u001b[49m\u001b[43m)\u001b[49m\n\u001b[0;32m   3622\u001b[0m \u001b[38;5;28;01mexcept\u001b[39;00m \u001b[38;5;167;01mKeyError\u001b[39;00m \u001b[38;5;28;01mas\u001b[39;00m err:\n",
      "File \u001b[1;32mC:\\Python\\lib\\site-packages\\pandas\\_libs\\index.pyx:136\u001b[0m, in \u001b[0;36mpandas._libs.index.IndexEngine.get_loc\u001b[1;34m()\u001b[0m\n",
      "File \u001b[1;32mC:\\Python\\lib\\site-packages\\pandas\\_libs\\index.pyx:163\u001b[0m, in \u001b[0;36mpandas._libs.index.IndexEngine.get_loc\u001b[1;34m()\u001b[0m\n",
      "File \u001b[1;32mpandas\\_libs\\hashtable_class_helper.pxi:5198\u001b[0m, in \u001b[0;36mpandas._libs.hashtable.PyObjectHashTable.get_item\u001b[1;34m()\u001b[0m\n",
      "File \u001b[1;32mpandas\\_libs\\hashtable_class_helper.pxi:5206\u001b[0m, in \u001b[0;36mpandas._libs.hashtable.PyObjectHashTable.get_item\u001b[1;34m()\u001b[0m\n",
      "\u001b[1;31mKeyError\u001b[0m: False",
      "\nThe above exception was the direct cause of the following exception:\n",
      "\u001b[1;31mKeyError\u001b[0m                                  Traceback (most recent call last)",
      "Input \u001b[1;32mIn [25]\u001b[0m, in \u001b[0;36m<cell line: 2>\u001b[1;34m()\u001b[0m\n\u001b[0;32m      1\u001b[0m \u001b[38;5;66;03m# How many billionaires do we have in America?\u001b[39;00m\n\u001b[1;32m----> 2\u001b[0m df[\u001b[38;5;124m'\u001b[39m\u001b[38;5;124mCountry\u001b[39m\u001b[38;5;124m'\u001b[39m]\u001b[38;5;241m=\u001b[39m \u001b[43mdf\u001b[49m\u001b[43m[\u001b[49m\u001b[38;5;124;43m'\u001b[39;49m\u001b[38;5;124;43mCountry\u001b[39;49m\u001b[38;5;124;43m'\u001b[39;49m\u001b[38;5;241;43m==\u001b[39;49m\u001b[43m \u001b[49m\u001b[38;5;124;43m'\u001b[39;49m\u001b[38;5;124;43mAmerica\u001b[39;49m\u001b[38;5;124;43m'\u001b[39;49m\u001b[43m]\u001b[49m\u001b[38;5;241m.\u001b[39mvalue_counts()\n",
      "File \u001b[1;32mC:\\Python\\lib\\site-packages\\pandas\\core\\series.py:958\u001b[0m, in \u001b[0;36mSeries.__getitem__\u001b[1;34m(self, key)\u001b[0m\n\u001b[0;32m    955\u001b[0m     \u001b[38;5;28;01mreturn\u001b[39;00m \u001b[38;5;28mself\u001b[39m\u001b[38;5;241m.\u001b[39m_values[key]\n\u001b[0;32m    957\u001b[0m \u001b[38;5;28;01melif\u001b[39;00m key_is_scalar:\n\u001b[1;32m--> 958\u001b[0m     \u001b[38;5;28;01mreturn\u001b[39;00m \u001b[38;5;28;43mself\u001b[39;49m\u001b[38;5;241;43m.\u001b[39;49m\u001b[43m_get_value\u001b[49m\u001b[43m(\u001b[49m\u001b[43mkey\u001b[49m\u001b[43m)\u001b[49m\n\u001b[0;32m    960\u001b[0m \u001b[38;5;28;01mif\u001b[39;00m is_hashable(key):\n\u001b[0;32m    961\u001b[0m     \u001b[38;5;66;03m# Otherwise index.get_value will raise InvalidIndexError\u001b[39;00m\n\u001b[0;32m    962\u001b[0m     \u001b[38;5;28;01mtry\u001b[39;00m:\n\u001b[0;32m    963\u001b[0m         \u001b[38;5;66;03m# For labels that don't resolve as scalars like tuples and frozensets\u001b[39;00m\n",
      "File \u001b[1;32mC:\\Python\\lib\\site-packages\\pandas\\core\\series.py:1069\u001b[0m, in \u001b[0;36mSeries._get_value\u001b[1;34m(self, label, takeable)\u001b[0m\n\u001b[0;32m   1066\u001b[0m     \u001b[38;5;28;01mreturn\u001b[39;00m \u001b[38;5;28mself\u001b[39m\u001b[38;5;241m.\u001b[39m_values[label]\n\u001b[0;32m   1068\u001b[0m \u001b[38;5;66;03m# Similar to Index.get_value, but we do not fall back to positional\u001b[39;00m\n\u001b[1;32m-> 1069\u001b[0m loc \u001b[38;5;241m=\u001b[39m \u001b[38;5;28;43mself\u001b[39;49m\u001b[38;5;241;43m.\u001b[39;49m\u001b[43mindex\u001b[49m\u001b[38;5;241;43m.\u001b[39;49m\u001b[43mget_loc\u001b[49m\u001b[43m(\u001b[49m\u001b[43mlabel\u001b[49m\u001b[43m)\u001b[49m\n\u001b[0;32m   1070\u001b[0m \u001b[38;5;28;01mreturn\u001b[39;00m \u001b[38;5;28mself\u001b[39m\u001b[38;5;241m.\u001b[39mindex\u001b[38;5;241m.\u001b[39m_get_values_for_loc(\u001b[38;5;28mself\u001b[39m, loc, label)\n",
      "File \u001b[1;32mC:\\Python\\lib\\site-packages\\pandas\\core\\indexes\\base.py:3623\u001b[0m, in \u001b[0;36mIndex.get_loc\u001b[1;34m(self, key, method, tolerance)\u001b[0m\n\u001b[0;32m   3621\u001b[0m     \u001b[38;5;28;01mreturn\u001b[39;00m \u001b[38;5;28mself\u001b[39m\u001b[38;5;241m.\u001b[39m_engine\u001b[38;5;241m.\u001b[39mget_loc(casted_key)\n\u001b[0;32m   3622\u001b[0m \u001b[38;5;28;01mexcept\u001b[39;00m \u001b[38;5;167;01mKeyError\u001b[39;00m \u001b[38;5;28;01mas\u001b[39;00m err:\n\u001b[1;32m-> 3623\u001b[0m     \u001b[38;5;28;01mraise\u001b[39;00m \u001b[38;5;167;01mKeyError\u001b[39;00m(key) \u001b[38;5;28;01mfrom\u001b[39;00m \u001b[38;5;21;01merr\u001b[39;00m\n\u001b[0;32m   3624\u001b[0m \u001b[38;5;28;01mexcept\u001b[39;00m \u001b[38;5;167;01mTypeError\u001b[39;00m:\n\u001b[0;32m   3625\u001b[0m     \u001b[38;5;66;03m# If we have a listlike key, _check_indexing_error will raise\u001b[39;00m\n\u001b[0;32m   3626\u001b[0m     \u001b[38;5;66;03m#  InvalidIndexError. Otherwise we fall through and re-raise\u001b[39;00m\n\u001b[0;32m   3627\u001b[0m     \u001b[38;5;66;03m#  the TypeError.\u001b[39;00m\n\u001b[0;32m   3628\u001b[0m     \u001b[38;5;28mself\u001b[39m\u001b[38;5;241m.\u001b[39m_check_indexing_error(key)\n",
      "\u001b[1;31mKeyError\u001b[0m: False"
     ]
    }
   ],
   "source": [
    "# How many billionaires do we have in America?\n",
    "df['Country']= df['Country'== 'America'].value_counts()"
   ]
  },
  {
   "cell_type": "code",
   "execution_count": null,
   "id": "53a3bdce",
   "metadata": {},
   "outputs": [],
   "source": [
    "#Which countries have the least number of billionaires?"
   ]
  }
 ],
 "metadata": {
  "kernelspec": {
   "display_name": "Python 3 (ipykernel)",
   "language": "python",
   "name": "python3"
  },
  "language_info": {
   "codemirror_mode": {
    "name": "ipython",
    "version": 3
   },
   "file_extension": ".py",
   "mimetype": "text/x-python",
   "name": "python",
   "nbconvert_exporter": "python",
   "pygments_lexer": "ipython3",
   "version": "3.9.12"
  }
 },
 "nbformat": 4,
 "nbformat_minor": 5
}
